{
 "cells": [
  {
   "cell_type": "markdown",
   "id": "bd79d5c7",
   "metadata": {},
   "source": [
    "# Type II mock spectra\n",
    "This notebook shows how to create a type II AGN spectrum using the AGN luminosity and the redshift"
   ]
  },
  {
   "cell_type": "code",
   "execution_count": 1,
   "id": "648aaf03",
   "metadata": {},
   "outputs": [],
   "source": [
    "import time\n",
    "import numpy\n",
    "import numpy as np\n",
    "import matplotlib.pyplot as plt\n",
    "import sys\n",
    "sys.path.append(\"../code/\")\n",
    "\n",
    "import create_mocks\n",
    "import create_AGN_from_galaxy\n",
    "\n",
    "from astropy.io import fits\n",
    "from pyphot import Filter\n",
    "from pyphot import unit"
   ]
  },
  {
   "cell_type": "code",
   "execution_count": 2,
   "id": "0ead858a",
   "metadata": {},
   "outputs": [
    {
     "data": {
      "text/plain": [
       "<module 'create_AGN_from_galaxy' from '/Users/dalyabaron/Documents/GitHub/PFS_AGN_simulator/notebooks/../code/create_AGN_from_galaxy.py'>"
      ]
     },
     "execution_count": 2,
     "metadata": {},
     "output_type": "execute_result"
    }
   ],
   "source": [
    "import importlib\n",
    "importlib.reload(create_mocks)\n",
    "importlib.reload(create_AGN_from_galaxy)"
   ]
  },
  {
   "cell_type": "code",
   "execution_count": null,
   "id": "1a61d958",
   "metadata": {},
   "outputs": [],
   "source": []
  }
 ],
 "metadata": {
  "kernelspec": {
   "display_name": "Python 3 (ipykernel)",
   "language": "python",
   "name": "python3"
  },
  "language_info": {
   "codemirror_mode": {
    "name": "ipython",
    "version": 3
   },
   "file_extension": ".py",
   "mimetype": "text/x-python",
   "name": "python",
   "nbconvert_exporter": "python",
   "pygments_lexer": "ipython3",
   "version": "3.9.15"
  }
 },
 "nbformat": 4,
 "nbformat_minor": 5
}
