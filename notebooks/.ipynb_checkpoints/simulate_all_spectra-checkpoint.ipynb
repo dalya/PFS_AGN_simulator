{
 "cells": [
  {
   "cell_type": "markdown",
   "id": "cc614f16",
   "metadata": {},
   "source": [
    "# Simulate all AGN spectra for the PFS survey\n",
    "This notebook simulates the AGN properties and their corresponding spectra. It includes the following steps:\n",
    "- Andy sent me a file that contains the mock galaxy catalog from universe-machine. The catalog includes the redshift and stellar masses of the galaxies.\n",
    "- Using these stellar masses and redshifts, I create mock AGN properties that include the BH mass, AGN luminosity, X-ray luminosity, and AGN type. Many of the sources are too weak to be observed as AGN, these sources have `AGN_type=0`. \n",
    "- Sources that have `AGN_type=1` are type I AGN, and I simulate a blue quasar spectrum for them.\n",
    "- Sources that have `AGN_type=2` are type II AGN, and I simulate a type II spectrum for them. \n",
    "- I save all the metadata into a file. In addition, for all type I and type II AGN, I save their rest-frame spectrum. I will later send this information to Andy."
   ]
  },
  {
   "cell_type": "code",
   "execution_count": 1,
   "id": "a813127e",
   "metadata": {},
   "outputs": [],
   "source": [
    "import time\n",
    "import numpy\n",
    "import numpy as np\n",
    "import matplotlib.pyplot as plt\n",
    "import sys\n",
    "sys.path.append(\"../code/\")\n",
    "\n",
    "import create_mocks\n",
    "import create_AGN_from_galaxy\n",
    "\n",
    "from astropy.io import fits\n",
    "from pyphot import Filter\n",
    "from pyphot import unit"
   ]
  },
  {
   "cell_type": "code",
   "execution_count": 2,
   "id": "11c74029",
   "metadata": {},
   "outputs": [
    {
     "data": {
      "text/plain": [
       "<module 'create_AGN_from_galaxy' from '/Users/dalyabaron/Documents/GitHub/PFS_AGN_simulator/notebooks/../code/create_AGN_from_galaxy.py'>"
      ]
     },
     "execution_count": 2,
     "metadata": {},
     "output_type": "execute_result"
    }
   ],
   "source": [
    "import importlib\n",
    "importlib.reload(create_mocks)\n",
    "importlib.reload(create_AGN_from_galaxy)"
   ]
  },
  {
   "cell_type": "markdown",
   "id": "069a4ba5",
   "metadata": {},
   "source": [
    "# Load the mock galaxy information from universe-machine"
   ]
  },
  {
   "cell_type": "code",
   "execution_count": 3,
   "id": "665dfc75",
   "metadata": {},
   "outputs": [
    {
     "data": {
      "text/plain": [
       "FITS_rec([(       1888067397,  2.31072998,  2.14848709, 0.69024998, 23.02524185, 22.531353  , 22.05895233, 21.95724869, 22.00283051, 22.00540924, 4.51000009e+11, 2.14499994e+09,  8.18799973),\n",
       "          (       1888069850,  2.32365417,  2.19863009, 0.69256502, 24.33727837, 23.88686371, 23.39998245, 23.32904816, 23.26174355, 23.19828796, 1.92599998e+11, 8.56700032e+08,  0.9109    ),\n",
       "          (       1888068255,  2.05950928,  2.2837379 , 0.69326103, 22.64671326, 21.72599602, 20.97424698, 20.61491776, 20.44791412, 20.2087326 , 7.34799987e+11, 3.14300006e+10, 17.30999947),\n",
       "          ...,\n",
       "          (26000000462368667, -2.3248291 , -2.30043411, 1.71284604, 24.22973442, 23.99590683, 23.74430847, 23.51178169, 23.21148109, 22.73784447, 3.49400007e+11, 8.74499994e+09, 36.52000046),\n",
       "          (       1048227070, -2.33129883, -2.30132604, 1.71118701, 26.57938576, 26.29346657, 25.80625343, 25.6343174 , 25.14326859, 24.61763954, 3.80999991e+11, 2.22400000e+09,  3.04900002),\n",
       "          (       1048201611, -2.22290039, -2.32945108, 1.71351397, 26.40789223, 26.19557762, 26.01039886, 25.87182999, 25.44514465, 25.02190208, 2.29099995e+11, 1.18600000e+09,  2.32999992)],\n",
       "         dtype=(numpy.record, [('SrcID', '>i8'), ('RA', '>f8'), ('DEC', '>f8'), ('z', '>f8'), ('magg', '>f8'), ('magr', '>f8'), ('magi', '>f8'), ('magz', '>f8'), ('magy', '>f8'), ('magj', '>f8'), ('halo_mvir', '>f8'), ('Mstar', '>f8'), ('SFR', '>f8')]))"
      ]
     },
     "execution_count": 3,
     "metadata": {},
     "output_type": "execute_result"
    }
   ],
   "source": [
    "path = \"../survey_PFS_0_src_May23.fits\"\n",
    "h = fits.open(path)\n",
    "data = h[1].data\n",
    "\n",
    "data"
   ]
  },
  {
   "cell_type": "code",
   "execution_count": 15,
   "id": "9e7bcc65",
   "metadata": {},
   "outputs": [],
   "source": [
    "src_id = data['SrcID']\n",
    "log_m_star = np.log10(data['Mstar'])\n",
    "redshift = data['z']"
   ]
  },
  {
   "cell_type": "code",
   "execution_count": 5,
   "id": "2d043830",
   "metadata": {},
   "outputs": [
    {
     "name": "stdout",
     "output_type": "stream",
     "text": [
      "Out of 1984052 sources, 19308 are type I AGN, 356801 are type II AGN\n"
     ]
    }
   ],
   "source": [
    "log_m_bh = create_AGN_from_galaxy.return_BH_mass(log_m_star)\n",
    "log_edd_ratio = create_AGN_from_galaxy.return_logEdd_ratio(redshift, log_m_star)\n",
    "log_L_bol = create_AGN_from_galaxy.return_logLbol(log_m_bh, log_edd_ratio)\n",
    "log_L_x = create_AGN_from_galaxy.return_logLx(log_L_bol)\n",
    "AGN_duty = create_AGN_from_galaxy.return_duty_cycle(log_m_bh, log_L_x)\n",
    "AGN_type = create_AGN_from_galaxy.return_AGN_type(AGN_duty, log_L_x)\n",
    "\n",
    "print(\"Out of %s sources, %s are type I AGN, %s are type II AGN\" % (len(AGN_type), \n",
    "                                                                    len(AGN_type[AGN_type == 1]),\n",
    "                                                                    len(AGN_type[AGN_type == 2])))"
   ]
  },
  {
   "cell_type": "markdown",
   "id": "8e609d39",
   "metadata": {},
   "source": [
    "Save this information into a table. This is one of the outputs I am going to sent to Andy. "
   ]
  },
  {
   "cell_type": "code",
   "execution_count": 6,
   "id": "674aabe1",
   "metadata": {},
   "outputs": [],
   "source": [
    "f = open(\"output/metadata.csv\", \"w\")\n",
    "f.write(\"SrcID, log_M_star, z, log_M_BH, log_Edd, log_L_bol, log_L_x, AGN_type\\n\")\n",
    "\n",
    "for i in range(len(src_id)):\n",
    "    f.write(\"%s, %s, %s, %s, %s, %s, %s, %s\\n\" % (src_id[i],\n",
    "                                                  log_m_star[i],\n",
    "                                                  redshift[i],\n",
    "                                                  log_m_bh[i],\n",
    "                                                  log_edd_ratio[i],\n",
    "                                                  log_L_bol[i],\n",
    "                                                  log_L_x[i],\n",
    "                                                  AGN_type[i]))\n",
    "    \n",
    "f.close()"
   ]
  },
  {
   "cell_type": "code",
   "execution_count": null,
   "id": "c3c12fbf",
   "metadata": {},
   "outputs": [],
   "source": []
  },
  {
   "cell_type": "markdown",
   "id": "e0411d7e",
   "metadata": {},
   "source": [
    "## Type I AGN - save their spectra\n",
    "Create mock spectra for the type I AGN and save them. The spectra will be in rest-frame wavelength. The name of each file will be the `SrcID` from the universe-machine galaxy mocks. "
   ]
  },
  {
   "cell_type": "code",
   "execution_count": 16,
   "id": "76e90b03",
   "metadata": {},
   "outputs": [
    {
     "ename": "KeyboardInterrupt",
     "evalue": "",
     "output_type": "error",
     "traceback": [
      "\u001b[0;31m---------------------------------------------------------------------------\u001b[0m",
      "\u001b[0;31mKeyboardInterrupt\u001b[0m                         Traceback (most recent call last)",
      "Cell \u001b[0;32mIn[16], line 16\u001b[0m\n\u001b[1;32m     13\u001b[0m log_Ledd \u001b[38;5;241m=\u001b[39m log_edd_ratio_typeI[i]\n\u001b[1;32m     15\u001b[0m \u001b[38;5;66;03m# create mock\u001b[39;00m\n\u001b[0;32m---> 16\u001b[0m wavelength, flux \u001b[38;5;241m=\u001b[39m \u001b[43mcreate_mocks\u001b[49m\u001b[38;5;241;43m.\u001b[39;49m\u001b[43mmakeQSO\u001b[49m\u001b[43m(\u001b[49m\u001b[43mBH_mass\u001b[49m\u001b[43m,\u001b[49m\u001b[43m \u001b[49m\u001b[43mL_bol\u001b[49m\u001b[43m,\u001b[49m\u001b[43m \u001b[49m\u001b[43mz\u001b[49m\u001b[43m,\u001b[49m\u001b[43m \u001b[49m\u001b[43mlog_Ledd\u001b[49m\u001b[43m,\u001b[49m\u001b[43m \u001b[49m\u001b[43mreturn_redshifted\u001b[49m\u001b[38;5;241;43m=\u001b[39;49m\u001b[38;5;28;43;01mFalse\u001b[39;49;00m\u001b[43m)\u001b[49m[:\u001b[38;5;241m2\u001b[39m]\n\u001b[1;32m     17\u001b[0m \u001b[38;5;66;03m# scale the flux by redshift\u001b[39;00m\n\u001b[1;32m     18\u001b[0m flux_obs \u001b[38;5;241m=\u001b[39m flux \u001b[38;5;241m/\u001b[39m (\u001b[38;5;241m1\u001b[39m \u001b[38;5;241m+\u001b[39m z)\n",
      "File \u001b[0;32m~/Documents/GitHub/PFS_AGN_simulator/notebooks/../code/create_mocks.py:265\u001b[0m, in \u001b[0;36mmakeQSO\u001b[0;34m(mbh, Lbol, z, logLedd, return_redshifted)\u001b[0m\n\u001b[1;32m    262\u001b[0m     \u001b[38;5;28;01mif\u001b[39;00m low\u001b[38;5;241m<\u001b[39m\u001b[38;5;28mmin\u001b[39m(w_r):low\u001b[38;5;241m=\u001b[39m\u001b[38;5;28mmin\u001b[39m(w_r)\n\u001b[1;32m    263\u001b[0m     \u001b[38;5;28;01mif\u001b[39;00m high\u001b[38;5;241m>\u001b[39m\u001b[38;5;28mmax\u001b[39m(w_r):high\u001b[38;5;241m=\u001b[39m\u001b[38;5;28mmax\u001b[39m(w_r)\n\u001b[0;32m--> 265\u001b[0m     f_r[low\u001b[38;5;241m-\u001b[39m\u001b[38;5;241m1\u001b[39m:high\u001b[38;5;241m-\u001b[39m\u001b[38;5;241m1\u001b[39m] \u001b[38;5;241m+\u001b[39m\u001b[38;5;241m=\u001b[39m [f_line[uu][\u001b[38;5;241m3\u001b[39m]\u001b[38;5;241m*\u001b[39mgaussian(xx, f_line[uu][\u001b[38;5;241m1\u001b[39m], f_line[uu][\u001b[38;5;241m2\u001b[39m]) \u001b[38;5;28;01mfor\u001b[39;00m xx \u001b[38;5;129;01min\u001b[39;00m np\u001b[38;5;241m.\u001b[39marange(low, high, \u001b[38;5;241m1\u001b[39m)]\n\u001b[1;32m    267\u001b[0m \u001b[38;5;66;03m# add IGM attenuation according to Inoue+14\u001b[39;00m\n\u001b[1;32m    268\u001b[0m igm_inoue\u001b[38;5;241m=\u001b[39mnp\u001b[38;5;241m.\u001b[39mloadtxt(\u001b[38;5;124m'\u001b[39m\u001b[38;5;124m/Users/dalyabaron/Documents/GitHub/PFS_AGN_simulator/code/data/IGM/z_\u001b[39m\u001b[38;5;124m'\u001b[39m\u001b[38;5;241m+\u001b[39m\u001b[38;5;28mstr\u001b[39m(\u001b[38;5;28mint\u001b[39m(z\u001b[38;5;241m*\u001b[39m\u001b[38;5;241m10\u001b[39m)))\n",
      "File \u001b[0;32m~/Documents/GitHub/PFS_AGN_simulator/notebooks/../code/create_mocks.py:265\u001b[0m, in \u001b[0;36m<listcomp>\u001b[0;34m(.0)\u001b[0m\n\u001b[1;32m    262\u001b[0m     \u001b[38;5;28;01mif\u001b[39;00m low\u001b[38;5;241m<\u001b[39m\u001b[38;5;28mmin\u001b[39m(w_r):low\u001b[38;5;241m=\u001b[39m\u001b[38;5;28mmin\u001b[39m(w_r)\n\u001b[1;32m    263\u001b[0m     \u001b[38;5;28;01mif\u001b[39;00m high\u001b[38;5;241m>\u001b[39m\u001b[38;5;28mmax\u001b[39m(w_r):high\u001b[38;5;241m=\u001b[39m\u001b[38;5;28mmax\u001b[39m(w_r)\n\u001b[0;32m--> 265\u001b[0m     f_r[low\u001b[38;5;241m-\u001b[39m\u001b[38;5;241m1\u001b[39m:high\u001b[38;5;241m-\u001b[39m\u001b[38;5;241m1\u001b[39m] \u001b[38;5;241m+\u001b[39m\u001b[38;5;241m=\u001b[39m [f_line[uu][\u001b[38;5;241m3\u001b[39m]\u001b[38;5;241m*\u001b[39m\u001b[43mgaussian\u001b[49m\u001b[43m(\u001b[49m\u001b[43mxx\u001b[49m\u001b[43m,\u001b[49m\u001b[43m \u001b[49m\u001b[43mf_line\u001b[49m\u001b[43m[\u001b[49m\u001b[43muu\u001b[49m\u001b[43m]\u001b[49m\u001b[43m[\u001b[49m\u001b[38;5;241;43m1\u001b[39;49m\u001b[43m]\u001b[49m\u001b[43m,\u001b[49m\u001b[43m \u001b[49m\u001b[43mf_line\u001b[49m\u001b[43m[\u001b[49m\u001b[43muu\u001b[49m\u001b[43m]\u001b[49m\u001b[43m[\u001b[49m\u001b[38;5;241;43m2\u001b[39;49m\u001b[43m]\u001b[49m\u001b[43m)\u001b[49m \u001b[38;5;28;01mfor\u001b[39;00m xx \u001b[38;5;129;01min\u001b[39;00m np\u001b[38;5;241m.\u001b[39marange(low, high, \u001b[38;5;241m1\u001b[39m)]\n\u001b[1;32m    267\u001b[0m \u001b[38;5;66;03m# add IGM attenuation according to Inoue+14\u001b[39;00m\n\u001b[1;32m    268\u001b[0m igm_inoue\u001b[38;5;241m=\u001b[39mnp\u001b[38;5;241m.\u001b[39mloadtxt(\u001b[38;5;124m'\u001b[39m\u001b[38;5;124m/Users/dalyabaron/Documents/GitHub/PFS_AGN_simulator/code/data/IGM/z_\u001b[39m\u001b[38;5;124m'\u001b[39m\u001b[38;5;241m+\u001b[39m\u001b[38;5;28mstr\u001b[39m(\u001b[38;5;28mint\u001b[39m(z\u001b[38;5;241m*\u001b[39m\u001b[38;5;241m10\u001b[39m)))\n",
      "File \u001b[0;32m~/Documents/GitHub/PFS_AGN_simulator/notebooks/../code/create_mocks.py:181\u001b[0m, in \u001b[0;36mgaussian\u001b[0;34m(x, mu, sig)\u001b[0m\n\u001b[1;32m    180\u001b[0m \u001b[38;5;28;01mdef\u001b[39;00m \u001b[38;5;21mgaussian\u001b[39m(x, mu, sig):\n\u001b[0;32m--> 181\u001b[0m     norm\u001b[38;5;241m=\u001b[39m\u001b[43mintegrate\u001b[49m\u001b[38;5;241;43m.\u001b[39;49m\u001b[43mquad\u001b[49m\u001b[43m(\u001b[49m\u001b[38;5;28;43;01mlambda\u001b[39;49;00m\u001b[43m \u001b[49m\u001b[43mxx\u001b[49m\u001b[43m:\u001b[49m\u001b[43mnp\u001b[49m\u001b[38;5;241;43m.\u001b[39;49m\u001b[43mexp\u001b[49m\u001b[43m(\u001b[49m\u001b[38;5;241;43m-\u001b[39;49m\u001b[38;5;28;43mpow\u001b[39;49m\u001b[43m(\u001b[49m\u001b[43mxx\u001b[49m\u001b[43m \u001b[49m\u001b[38;5;241;43m-\u001b[39;49m\u001b[43m \u001b[49m\u001b[43mmu\u001b[49m\u001b[43m,\u001b[49m\u001b[43m \u001b[49m\u001b[38;5;241;43m2.\u001b[39;49m\u001b[43m)\u001b[49m\u001b[43m \u001b[49m\u001b[38;5;241;43m/\u001b[39;49m\u001b[43m \u001b[49m\u001b[43m(\u001b[49m\u001b[38;5;241;43m2\u001b[39;49m\u001b[43m \u001b[49m\u001b[38;5;241;43m*\u001b[39;49m\u001b[43m \u001b[49m\u001b[38;5;28;43mpow\u001b[39;49m\u001b[43m(\u001b[49m\u001b[43msig\u001b[49m\u001b[43m,\u001b[49m\u001b[43m \u001b[49m\u001b[38;5;241;43m2.\u001b[39;49m\u001b[43m)\u001b[49m\u001b[43m)\u001b[49m\u001b[43m)\u001b[49m\u001b[43m,\u001b[49m\u001b[43mmu\u001b[49m\u001b[38;5;241;43m-\u001b[39;49m\u001b[38;5;241;43m200\u001b[39;49m\u001b[43m,\u001b[49m\u001b[43mmu\u001b[49m\u001b[38;5;241;43m+\u001b[39;49m\u001b[38;5;241;43m200\u001b[39;49m\u001b[43m)\u001b[49m[\u001b[38;5;241m0\u001b[39m]\n\u001b[1;32m    182\u001b[0m     \u001b[38;5;28;01mreturn\u001b[39;00m np\u001b[38;5;241m.\u001b[39mexp(\u001b[38;5;241m-\u001b[39m\u001b[38;5;28mpow\u001b[39m(x \u001b[38;5;241m-\u001b[39m mu, \u001b[38;5;241m2.\u001b[39m) \u001b[38;5;241m/\u001b[39m (\u001b[38;5;241m2\u001b[39m \u001b[38;5;241m*\u001b[39m \u001b[38;5;28mpow\u001b[39m(sig, \u001b[38;5;241m2.\u001b[39m)))\u001b[38;5;241m/\u001b[39mnorm\n",
      "File \u001b[0;32m~/opt/anaconda3/lib/python3.9/site-packages/scipy/integrate/quadpack.py:351\u001b[0m, in \u001b[0;36mquad\u001b[0;34m(func, a, b, args, full_output, epsabs, epsrel, limit, points, weight, wvar, wopts, maxp1, limlst)\u001b[0m\n\u001b[1;32m    348\u001b[0m flip, a, b \u001b[38;5;241m=\u001b[39m b \u001b[38;5;241m<\u001b[39m a, \u001b[38;5;28mmin\u001b[39m(a, b), \u001b[38;5;28mmax\u001b[39m(a, b)\n\u001b[1;32m    350\u001b[0m \u001b[38;5;28;01mif\u001b[39;00m weight \u001b[38;5;129;01mis\u001b[39;00m \u001b[38;5;28;01mNone\u001b[39;00m:\n\u001b[0;32m--> 351\u001b[0m     retval \u001b[38;5;241m=\u001b[39m \u001b[43m_quad\u001b[49m\u001b[43m(\u001b[49m\u001b[43mfunc\u001b[49m\u001b[43m,\u001b[49m\u001b[43m \u001b[49m\u001b[43ma\u001b[49m\u001b[43m,\u001b[49m\u001b[43m \u001b[49m\u001b[43mb\u001b[49m\u001b[43m,\u001b[49m\u001b[43m \u001b[49m\u001b[43margs\u001b[49m\u001b[43m,\u001b[49m\u001b[43m \u001b[49m\u001b[43mfull_output\u001b[49m\u001b[43m,\u001b[49m\u001b[43m \u001b[49m\u001b[43mepsabs\u001b[49m\u001b[43m,\u001b[49m\u001b[43m \u001b[49m\u001b[43mepsrel\u001b[49m\u001b[43m,\u001b[49m\u001b[43m \u001b[49m\u001b[43mlimit\u001b[49m\u001b[43m,\u001b[49m\n\u001b[1;32m    352\u001b[0m \u001b[43m                   \u001b[49m\u001b[43mpoints\u001b[49m\u001b[43m)\u001b[49m\n\u001b[1;32m    353\u001b[0m \u001b[38;5;28;01melse\u001b[39;00m:\n\u001b[1;32m    354\u001b[0m     \u001b[38;5;28;01mif\u001b[39;00m points \u001b[38;5;129;01mis\u001b[39;00m \u001b[38;5;129;01mnot\u001b[39;00m \u001b[38;5;28;01mNone\u001b[39;00m:\n",
      "File \u001b[0;32m~/opt/anaconda3/lib/python3.9/site-packages/scipy/integrate/quadpack.py:463\u001b[0m, in \u001b[0;36m_quad\u001b[0;34m(func, a, b, args, full_output, epsabs, epsrel, limit, points)\u001b[0m\n\u001b[1;32m    461\u001b[0m \u001b[38;5;28;01mif\u001b[39;00m points \u001b[38;5;129;01mis\u001b[39;00m \u001b[38;5;28;01mNone\u001b[39;00m:\n\u001b[1;32m    462\u001b[0m     \u001b[38;5;28;01mif\u001b[39;00m infbounds \u001b[38;5;241m==\u001b[39m \u001b[38;5;241m0\u001b[39m:\n\u001b[0;32m--> 463\u001b[0m         \u001b[38;5;28;01mreturn\u001b[39;00m \u001b[43m_quadpack\u001b[49m\u001b[38;5;241;43m.\u001b[39;49m\u001b[43m_qagse\u001b[49m\u001b[43m(\u001b[49m\u001b[43mfunc\u001b[49m\u001b[43m,\u001b[49m\u001b[43ma\u001b[49m\u001b[43m,\u001b[49m\u001b[43mb\u001b[49m\u001b[43m,\u001b[49m\u001b[43margs\u001b[49m\u001b[43m,\u001b[49m\u001b[43mfull_output\u001b[49m\u001b[43m,\u001b[49m\u001b[43mepsabs\u001b[49m\u001b[43m,\u001b[49m\u001b[43mepsrel\u001b[49m\u001b[43m,\u001b[49m\u001b[43mlimit\u001b[49m\u001b[43m)\u001b[49m\n\u001b[1;32m    464\u001b[0m     \u001b[38;5;28;01melse\u001b[39;00m:\n\u001b[1;32m    465\u001b[0m         \u001b[38;5;28;01mreturn\u001b[39;00m _quadpack\u001b[38;5;241m.\u001b[39m_qagie(func,bound,infbounds,args,full_output,epsabs,epsrel,limit)\n",
      "File \u001b[0;32m~/Documents/GitHub/PFS_AGN_simulator/notebooks/../code/create_mocks.py:181\u001b[0m, in \u001b[0;36mgaussian.<locals>.<lambda>\u001b[0;34m(xx)\u001b[0m\n\u001b[1;32m    180\u001b[0m \u001b[38;5;28;01mdef\u001b[39;00m \u001b[38;5;21mgaussian\u001b[39m(x, mu, sig):\n\u001b[0;32m--> 181\u001b[0m     norm\u001b[38;5;241m=\u001b[39mintegrate\u001b[38;5;241m.\u001b[39mquad(\u001b[38;5;28;01mlambda\u001b[39;00m xx:\u001b[43mnp\u001b[49m\u001b[38;5;241;43m.\u001b[39;49m\u001b[43mexp\u001b[49m\u001b[43m(\u001b[49m\u001b[38;5;241;43m-\u001b[39;49m\u001b[38;5;28;43mpow\u001b[39;49m\u001b[43m(\u001b[49m\u001b[43mxx\u001b[49m\u001b[43m \u001b[49m\u001b[38;5;241;43m-\u001b[39;49m\u001b[43m \u001b[49m\u001b[43mmu\u001b[49m\u001b[43m,\u001b[49m\u001b[43m \u001b[49m\u001b[38;5;241;43m2.\u001b[39;49m\u001b[43m)\u001b[49m\u001b[43m \u001b[49m\u001b[38;5;241;43m/\u001b[39;49m\u001b[43m \u001b[49m\u001b[43m(\u001b[49m\u001b[38;5;241;43m2\u001b[39;49m\u001b[43m \u001b[49m\u001b[38;5;241;43m*\u001b[39;49m\u001b[43m \u001b[49m\u001b[38;5;28;43mpow\u001b[39;49m\u001b[43m(\u001b[49m\u001b[43msig\u001b[49m\u001b[43m,\u001b[49m\u001b[43m \u001b[49m\u001b[38;5;241;43m2.\u001b[39;49m\u001b[43m)\u001b[49m\u001b[43m)\u001b[49m\u001b[43m)\u001b[49m,mu\u001b[38;5;241m-\u001b[39m\u001b[38;5;241m200\u001b[39m,mu\u001b[38;5;241m+\u001b[39m\u001b[38;5;241m200\u001b[39m)[\u001b[38;5;241m0\u001b[39m]\n\u001b[1;32m    182\u001b[0m     \u001b[38;5;28;01mreturn\u001b[39;00m np\u001b[38;5;241m.\u001b[39mexp(\u001b[38;5;241m-\u001b[39m\u001b[38;5;28mpow\u001b[39m(x \u001b[38;5;241m-\u001b[39m mu, \u001b[38;5;241m2.\u001b[39m) \u001b[38;5;241m/\u001b[39m (\u001b[38;5;241m2\u001b[39m \u001b[38;5;241m*\u001b[39m \u001b[38;5;28mpow\u001b[39m(sig, \u001b[38;5;241m2.\u001b[39m)))\u001b[38;5;241m/\u001b[39mnorm\n",
      "\u001b[0;31mKeyboardInterrupt\u001b[0m: "
     ]
    }
   ],
   "source": [
    "src_ids_typeI = src_id[AGN_type == 1]\n",
    "log_m_bh_typeI = log_m_bh[AGN_type == 1]\n",
    "redshift_typeI = redshift[AGN_type == 1]\n",
    "log_L_bol_typeI = log_L_bol[AGN_type == 1]\n",
    "log_edd_ratio_typeI = log_edd_ratio[AGN_type == 1]\n",
    "\n",
    "for i in range(len(src_ids_typeI)):\n",
    "    #\n",
    "    src_id_name = src_ids_typeI[i]\n",
    "    BH_mass = 10**log_m_bh_typeI[i]\n",
    "    z = redshift_typeI[i]\n",
    "    L_bol = 10**log_L_bol_typeI[i]\n",
    "    log_Ledd = log_edd_ratio_typeI[i]\n",
    "    \n",
    "    # create mock\n",
    "    wavelength, flux = create_mocks.makeQSO(BH_mass, L_bol, z, log_Ledd, return_redshifted=False)[:2]\n",
    "    # scale the flux by redshift\n",
    "    flux_obs = flux / (1 + z)\n",
    "    \n",
    "    # save\n",
    "    f = open(\"output/spectra/%s.csv\" % src_id_name, \"w\")\n",
    "    for j in range(len(wavelength)):\n",
    "        f.write(\"%s, %s\\n\" % (wavelength[j], flux[j]))\n",
    "    f.close()\n"
   ]
  },
  {
   "cell_type": "code",
   "execution_count": 13,
   "id": "3934f8e8",
   "metadata": {},
   "outputs": [
    {
     "data": {
      "text/plain": [
       "array([2, 0, 0, ..., 2, 2, 2])"
      ]
     },
     "execution_count": 13,
     "metadata": {},
     "output_type": "execute_result"
    }
   ],
   "source": [
    "src"
   ]
  }
 ],
 "metadata": {
  "kernelspec": {
   "display_name": "Python 3 (ipykernel)",
   "language": "python",
   "name": "python3"
  },
  "language_info": {
   "codemirror_mode": {
    "name": "ipython",
    "version": 3
   },
   "file_extension": ".py",
   "mimetype": "text/x-python",
   "name": "python",
   "nbconvert_exporter": "python",
   "pygments_lexer": "ipython3",
   "version": "3.9.15"
  }
 },
 "nbformat": 4,
 "nbformat_minor": 5
}
