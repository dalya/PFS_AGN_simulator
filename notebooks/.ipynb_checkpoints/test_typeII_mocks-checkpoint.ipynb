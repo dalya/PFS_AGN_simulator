{
 "cells": [
  {
   "cell_type": "markdown",
   "id": "553722bf",
   "metadata": {},
   "source": [
    "# Type II mock spectra\n",
    "This notebook shows how to create a type II AGN spectrum using the AGN luminosity and the redshift"
   ]
  },
  {
   "cell_type": "code",
   "execution_count": null,
   "id": "b34423c6",
   "metadata": {},
   "outputs": [],
   "source": []
  }
 ],
 "metadata": {
  "kernelspec": {
   "display_name": "Python 3 (ipykernel)",
   "language": "python",
   "name": "python3"
  },
  "language_info": {
   "codemirror_mode": {
    "name": "ipython",
    "version": 3
   },
   "file_extension": ".py",
   "mimetype": "text/x-python",
   "name": "python",
   "nbconvert_exporter": "python",
   "pygments_lexer": "ipython3",
   "version": "3.9.15"
  }
 },
 "nbformat": 4,
 "nbformat_minor": 5
}
